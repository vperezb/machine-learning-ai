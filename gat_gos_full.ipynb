{
 "cells": [
  {
   "cell_type": "code",
   "execution_count": null,
   "metadata": {},
   "outputs": [],
   "source": [
    "import numpy as np\n",
    "import pandas as pd\n",
    "import cv2\n",
    "import matplotlib.pyplot as plt\n",
    "import tensorflow as tf\n",
    "from tensorflow.keras.models import Sequential\n",
    "from tensorflow.keras.layers import Dense, Flatten, Dropout, Activation, Conv2D, MaxPooling2D"
   ]
  },
  {
   "cell_type": "code",
   "execution_count": 2,
   "metadata": {},
   "outputs": [],
   "source": [
    "import os\n",
    "import zipfile"
   ]
  },
  {
   "cell_type": "code",
   "execution_count": 3,
   "metadata": {},
   "outputs": [],
   "source": [
    "with zipfile.ZipFile(\"train.zip\",\"r\") as zip_ref:\n",
    "    zip_ref.extractall(\"\")"
   ]
  },
  {
   "cell_type": "code",
   "execution_count": 9,
   "metadata": {},
   "outputs": [],
   "source": [
    "path = \"train\""
   ]
  },
  {
   "cell_type": "code",
   "execution_count": 11,
   "metadata": {},
   "outputs": [],
   "source": [
    "X = []\n",
    "y = []\n",
    "\n",
    "convert = lambda category : int(category == 'dog')\n",
    "\n",
    "def create_test_data(path):\n",
    "    for p in os.listdir(path):\n",
    "        category = p.split(\".\")[0]\n",
    "        category = convert(category)\n",
    "        img_array = cv2.imread(os.path.join(path,p),cv2.IMREAD_GRAYSCALE)\n",
    "        new_img_array = cv2.resize(img_array, dsize=(80, 80))\n",
    "        X.append(new_img_array)\n",
    "        y.append(category)"
   ]
  },
  {
   "cell_type": "code",
   "execution_count": 12,
   "metadata": {},
   "outputs": [],
   "source": [
    "create_test_data(path)\n",
    "X = np.array(X).reshape(-1, 80,80,1)\n",
    "y = np.array(y)"
   ]
  },
  {
   "cell_type": "code",
   "execution_count": 13,
   "metadata": {},
   "outputs": [],
   "source": [
    "import pickle\n",
    "\n",
    "pickle.dump( X, open( \"train_x\", \"wb\" ) )\n",
    "pickle.dump( y, open( \"train_y\", \"wb\" ) )"
   ]
  },
  {
   "cell_type": "code",
   "execution_count": 14,
   "metadata": {},
   "outputs": [],
   "source": [
    "X = X/255.0"
   ]
  },
  {
   "cell_type": "code",
   "execution_count": 15,
   "metadata": {},
   "outputs": [
    {
     "name": "stdout",
     "output_type": "stream",
     "text": [
      "WARNING:tensorflow:From C:\\Users\\Orwell\\Documents\\GitProjects\\ML\\env\\lib\\site-packages\\tensorflow\\python\\ops\\resource_variable_ops.py:435: colocate_with (from tensorflow.python.framework.ops) is deprecated and will be removed in a future version.\n",
      "Instructions for updating:\n",
      "Colocations handled automatically by placer.\n"
     ]
    }
   ],
   "source": [
    "model = Sequential()\n",
    "# Adds a densely-connected layer with 64 units to the model:\n",
    "model.add(Conv2D(64,(3,3), activation = 'relu', input_shape = X.shape[1:]))\n",
    "model.add(MaxPooling2D(pool_size = (2,2)))\n",
    "# Add another:\n",
    "model.add(Conv2D(64,(3,3), activation = 'relu'))\n",
    "model.add(MaxPooling2D(pool_size = (2,2)))\n",
    "\n",
    "model.add(Flatten())\n",
    "model.add(Dense(64, activation='relu'))\n",
    "# Add a softmax layer with 10 output units:\n",
    "model.add(Dense(1, activation='sigmoid'))\n",
    "\n",
    "model.compile(optimizer=\"adam\",\n",
    "              loss='binary_crossentropy',\n",
    "              metrics=['accuracy'])"
   ]
  },
  {
   "cell_type": "code",
   "execution_count": 16,
   "metadata": {},
   "outputs": [
    {
     "name": "stdout",
     "output_type": "stream",
     "text": [
      "Train on 20000 samples, validate on 5000 samples\n",
      "WARNING:tensorflow:From C:\\Users\\Orwell\\Documents\\GitProjects\\ML\\env\\lib\\site-packages\\tensorflow\\python\\ops\\math_ops.py:3066: to_int32 (from tensorflow.python.ops.math_ops) is deprecated and will be removed in a future version.\n",
      "Instructions for updating:\n",
      "Use tf.cast instead.\n",
      "Epoch 1/10\n",
      "20000/20000 [==============================] - 414s 21ms/sample - loss: 0.6123 - acc: 0.6682 - val_loss: 0.7594 - val_acc: 0.5998\n",
      "Epoch 2/10\n",
      "20000/20000 [==============================] - 364s 18ms/sample - loss: 0.5065 - acc: 0.7505 - val_loss: 0.9261 - val_acc: 0.5138\n",
      "Epoch 3/10\n",
      "20000/20000 [==============================] - 369s 18ms/sample - loss: 0.4440 - acc: 0.7919 - val_loss: 0.7859 - val_acc: 0.6064\n",
      "Epoch 4/10\n",
      "20000/20000 [==============================] - 360s 18ms/sample - loss: 0.3827 - acc: 0.8239 - val_loss: 0.5731 - val_acc: 0.7436\n",
      "Epoch 5/10\n",
      "20000/20000 [==============================] - 357s 18ms/sample - loss: 0.3218 - acc: 0.8594 - val_loss: 0.9668 - val_acc: 0.6034\n",
      "Epoch 6/10\n",
      "20000/20000 [==============================] - 359s 18ms/sample - loss: 0.2562 - acc: 0.8917 - val_loss: 0.8347 - val_acc: 0.6808\n",
      "Epoch 7/10\n",
      "20000/20000 [==============================] - 364s 18ms/sample - loss: 0.1784 - acc: 0.9293 - val_loss: 0.7584 - val_acc: 0.7534\n",
      "Epoch 8/10\n",
      "20000/20000 [==============================] - 368s 18ms/sample - loss: 0.1161 - acc: 0.9579 - val_loss: 0.9671 - val_acc: 0.7198\n",
      "Epoch 9/10\n",
      "20000/20000 [==============================] - 363s 18ms/sample - loss: 0.0696 - acc: 0.9771 - val_loss: 1.5302 - val_acc: 0.6408\n",
      "Epoch 10/10\n",
      "20000/20000 [==============================] - 365s 18ms/sample - loss: 0.0472 - acc: 0.9851 - val_loss: 1.3198 - val_acc: 0.7182\n"
     ]
    },
    {
     "data": {
      "text/plain": [
       "<tensorflow.python.keras.callbacks.History at 0x1e94df8aa20>"
      ]
     },
     "execution_count": 16,
     "metadata": {},
     "output_type": "execute_result"
    }
   ],
   "source": [
    "model.fit(X, y, epochs=10, batch_size=32, validation_split=0.2)"
   ]
  },
  {
   "cell_type": "code",
   "execution_count": 19,
   "metadata": {},
   "outputs": [],
   "source": [
    "with zipfile.ZipFile(\"test1.zip\",\"r\") as zip_ref:\n",
    "    zip_ref.extractall('')"
   ]
  },
  {
   "cell_type": "code",
   "execution_count": 57,
   "metadata": {},
   "outputs": [],
   "source": [
    "path = \"test1\"\n",
    "\n",
    "X_test = []\n",
    "id_line = []\n",
    "def create_test1_data(path):\n",
    "    ind = 0\n",
    "    for p in os.listdir(path):\n",
    "        if ind > 23:\n",
    "            break\n",
    "        else:\n",
    "            id_line.append(p.split(\".\")[0])\n",
    "            img_array = cv2.imread(os.path.join(path,p),cv2.IMREAD_GRAYSCALE)\n",
    "            new_img_array = cv2.resize(img_array, dsize=(80, 80))\n",
    "            X_test.append(new_img_array)\n",
    "            ind += 1\n",
    "        \n",
    "\n",
    "create_test1_data(path)\n",
    "X_test = np.array(X_test).reshape(-1,80,80,1)\n",
    "X_test = X_test/255"
   ]
  },
  {
   "cell_type": "code",
   "execution_count": 80,
   "metadata": {},
   "outputs": [
    {
     "name": "stderr",
     "output_type": "stream",
     "text": [
      "Using TensorFlow backend.\n"
     ]
    }
   ],
   "source": [
    "#from keras.models import load_model\n",
    "\n",
    "model.save('dog_is_1.h5')"
   ]
  },
  {
   "cell_type": "code",
   "execution_count": null,
   "metadata": {},
   "outputs": [],
   "source": []
  },
  {
   "cell_type": "code",
   "execution_count": 58,
   "metadata": {},
   "outputs": [
    {
     "data": {
      "text/plain": [
       "array([[8.6221039e-01],\n",
       "       [2.9600269e-01],\n",
       "       [1.6739339e-02],\n",
       "       [9.9965972e-01],\n",
       "       [7.3832554e-01],\n",
       "       [9.7434115e-01],\n",
       "       [7.7486038e-07],\n",
       "       [7.5978643e-01],\n",
       "       [4.2256713e-04],\n",
       "       [7.4207783e-06],\n",
       "       [4.6837890e-01],\n",
       "       [0.0000000e+00],\n",
       "       [5.9604645e-08],\n",
       "       [9.9295557e-01],\n",
       "       [8.7924063e-01],\n",
       "       [9.1512567e-01],\n",
       "       [9.9803555e-01],\n",
       "       [1.3276070e-02],\n",
       "       [6.5476894e-03],\n",
       "       [1.2218952e-06],\n",
       "       [9.8839426e-01],\n",
       "       [2.5602162e-01],\n",
       "       [9.1195107e-06],\n",
       "       [2.7507544e-05]], dtype=float32)"
      ]
     },
     "execution_count": 58,
     "metadata": {},
     "output_type": "execute_result"
    }
   ],
   "source": [
    "predictions = model.predict(X_test)\n",
    "predictions"
   ]
  },
  {
   "cell_type": "code",
   "execution_count": 55,
   "metadata": {},
   "outputs": [
    {
     "name": "stdout",
     "output_type": "stream",
     "text": [
      "dog\n",
      "cat\n",
      "cat\n",
      "dog\n",
      "dog\n",
      "dog\n",
      "cat\n",
      "dog\n",
      "cat\n",
      "cat\n",
      "cat\n",
      "cat\n",
      "cat\n",
      "dog\n",
      "dog\n",
      "dog\n",
      "dog\n",
      "cat\n",
      "cat\n",
      "cat\n",
      "dog\n",
      "cat\n",
      "cat\n",
      "cat\n"
     ]
    }
   ],
   "source": [
    "predicted_val = [int(round(p[0])) for p in predictions]\n",
    "for prediction in predicted_val:\n",
    "    if prediction == 1:\n",
    "        print ('dog')\n",
    "    else:\n",
    "        print ('cat')"
   ]
  },
  {
   "cell_type": "code",
   "execution_count": null,
   "metadata": {},
   "outputs": [],
   "source": [
    "\n"
   ]
  },
  {
   "cell_type": "code",
   "execution_count": 77,
   "metadata": {},
   "outputs": [
    {
     "data": {
      "text/plain": [
       "<matplotlib.image.AxesImage at 0x1e94136fa90>"
      ]
     },
     "execution_count": 77,
     "metadata": {},
     "output_type": "execute_result"
    },
    {
     "data": {
      "image/png": "[encoded data removed]",
      "text/plain": [
       "<Figure size 432x288 with 1 Axes>"
      ]
     },
     "metadata": {
      "needs_background": "light"
     },
     "output_type": "display_data"
    }
   ],
   "source": [
    "img_array = cv2.imread(r'C:\\Users\\Orwell\\Downloads\\dog_test.jpg',cv2.IMREAD_GRAYSCALE)\n",
    "new_img_array = cv2.resize(img_array, dsize=(80, 80))\n",
    "plt.imshow(new_img_array,cmap=\"gray\")"
   ]
  },
  {
   "cell_type": "code",
   "execution_count": 73,
   "metadata": {},
   "outputs": [
    {
     "data": {
      "text/plain": [
       "<matplotlib.image.AxesImage at 0x1e941332c18>"
      ]
     },
     "execution_count": 73,
     "metadata": {},
     "output_type": "execute_result"
    },
    {
     "data": {
      "image/png": "[encoded data removed]",
      "text/plain": [
       "<Figure size 432x288 with 1 Axes>"
      ]
     },
     "metadata": {
      "needs_background": "light"
     },
     "output_type": "display_data"
    }
   ],
   "source": [
    "img_array = cv2.imread(r'C:\\Users\\Orwell\\Downloads\\cat_1.jpg',cv2.IMREAD_GRAYSCALE)\n",
    "new_img_array = cv2.resize(img_array, dsize=(80, 80))\n",
    "plt.imshow(new_img_array,cmap=\"gray\")"
   ]
  },
  {
   "cell_type": "code",
   "execution_count": 79,
   "metadata": {},
   "outputs": [
    {
     "data": {
      "text/plain": [
       "1"
      ]
     },
     "execution_count": 79,
     "metadata": {},
     "output_type": "execute_result"
    }
   ],
   "source": [
    "int(round(model.predict(new_img_array.reshape(-1,80,80,1)/255)[0][0]))"
   ]
  },
  {
   "cell_type": "code",
   "execution_count": 78,
   "metadata": {},
   "outputs": [
    {
     "data": {
      "text/plain": [
       "1"
      ]
     },
     "execution_count": 78,
     "metadata": {},
     "output_type": "execute_result"
    }
   ],
   "source": []
  },
  {
   "cell_type": "code",
   "execution_count": null,
   "metadata": {},
   "outputs": [],
   "source": []
  }
 ],
 "metadata": {
  "kernelspec": {
   "display_name": "env",
   "language": "python",
   "name": "env"
  },
  "language_info": {
   "codemirror_mode": {
    "name": "ipython",
    "version": 3
   },
   "file_extension": ".py",
   "mimetype": "text/x-python",
   "name": "python",
   "nbconvert_exporter": "python",
   "pygments_lexer": "ipython3",
   "version": "3.5.2"
  }
 },
 "nbformat": 4,
 "nbformat_minor": 2
}
